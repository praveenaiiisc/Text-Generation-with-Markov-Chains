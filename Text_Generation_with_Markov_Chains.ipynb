{
  "metadata": {
    "kernelspec": {
      "language": "python",
      "display_name": "Python 3",
      "name": "python3"
    },
    "language_info": {
      "name": "python",
      "version": "3.10.13",
      "mimetype": "text/x-python",
      "codemirror_mode": {
        "name": "ipython",
        "version": 3
      },
      "pygments_lexer": "ipython3",
      "nbconvert_exporter": "python",
      "file_extension": ".py"
    },
    "kaggle": {
      "accelerator": "none",
      "dataSources": [
        {
          "sourceId": 8953558,
          "sourceType": "datasetVersion",
          "datasetId": 5388427
        }
      ],
      "dockerImageVersionId": 30746,
      "isInternetEnabled": true,
      "language": "python",
      "sourceType": "notebook",
      "isGpuEnabled": false
    },
    "colab": {
      "name": "Text Generation with Markov Chains",
      "provenance": [],
      "include_colab_link": true
    }
  },
  "nbformat_minor": 0,
  "nbformat": 4,
  "cells": [
    {
      "cell_type": "markdown",
      "metadata": {
        "id": "view-in-github",
        "colab_type": "text"
      },
      "source": [
        "<a href=\"https://colab.research.google.com/github/praveenaiiisc/Text-Generation-with-Markov-Chains/blob/main/Text_Generation_with_Markov_Chains.ipynb\" target=\"_parent\"><img src=\"https://colab.research.google.com/assets/colab-badge.svg\" alt=\"Open In Colab\"/></a>"
      ]
    },
    {
      "source": [
        "\n",
        "# IMPORTANT: RUN THIS CELL IN ORDER TO IMPORT YOUR KAGGLE DATA SOURCES\n",
        "# TO THE CORRECT LOCATION (/kaggle/input) IN YOUR NOTEBOOK,\n",
        "# THEN FEEL FREE TO DELETE THIS CELL.\n",
        "# NOTE: THIS NOTEBOOK ENVIRONMENT DIFFERS FROM KAGGLE'S PYTHON\n",
        "# ENVIRONMENT SO THERE MAY BE MISSING LIBRARIES USED BY YOUR\n",
        "# NOTEBOOK.\n",
        "\n",
        "import os\n",
        "import sys\n",
        "from tempfile import NamedTemporaryFile\n",
        "from urllib.request import urlopen\n",
        "from urllib.parse import unquote, urlparse\n",
        "from urllib.error import HTTPError\n",
        "from zipfile import ZipFile\n",
        "import tarfile\n",
        "import shutil\n",
        "\n",
        "CHUNK_SIZE = 40960\n",
        "DATA_SOURCE_MAPPING = 'grimm-tales:https%3A%2F%2Fstorage.googleapis.com%2Fkaggle-data-sets%2F5388427%2F8953558%2Fbundle%2Farchive.zip%3FX-Goog-Algorithm%3DGOOG4-RSA-SHA256%26X-Goog-Credential%3Dgcp-kaggle-com%2540kaggle-161607.iam.gserviceaccount.com%252F20240721%252Fauto%252Fstorage%252Fgoog4_request%26X-Goog-Date%3D20240721T110646Z%26X-Goog-Expires%3D259200%26X-Goog-SignedHeaders%3Dhost%26X-Goog-Signature%3D8dd76ebe80bb4b02f9b44bff2984d13f9d938faccaf10bd56e738af601fc04b2dde2ab2d7a9f0dbd6fc01254c116a38db76ff9f7e814f4fb233b35309995ad5dffffb80aa1c1476502bd768db450774438ed130098e9de5aa0604dbcc8c42eb7a825cedf5fc915aedae117ec30ffc2b4131dce181c944460ae6659122d6a4776b15cadcd6bfa616207b615655d56350e5de7eceea51d17e34bd6c5aff84b0857eca506856136ecca720c740098e639dd1c9c7959cc88f9a554158b3c4de8d37be428fa04bd8ba9d513cfd027031245999e88f73149f593490de51e45ae28e757b832a82288d84d92a7f24c7e7e47f20445906fa1045c73d45dbbfeab1adca2b2'\n",
        "\n",
        "KAGGLE_INPUT_PATH='/kaggle/input'\n",
        "KAGGLE_WORKING_PATH='/kaggle/working'\n",
        "KAGGLE_SYMLINK='kaggle'\n",
        "\n",
        "!umount /kaggle/input/ 2> /dev/null\n",
        "shutil.rmtree('/kaggle/input', ignore_errors=True)\n",
        "os.makedirs(KAGGLE_INPUT_PATH, 0o777, exist_ok=True)\n",
        "os.makedirs(KAGGLE_WORKING_PATH, 0o777, exist_ok=True)\n",
        "\n",
        "try:\n",
        "  os.symlink(KAGGLE_INPUT_PATH, os.path.join(\"..\", 'input'), target_is_directory=True)\n",
        "except FileExistsError:\n",
        "  pass\n",
        "try:\n",
        "  os.symlink(KAGGLE_WORKING_PATH, os.path.join(\"..\", 'working'), target_is_directory=True)\n",
        "except FileExistsError:\n",
        "  pass\n",
        "\n",
        "for data_source_mapping in DATA_SOURCE_MAPPING.split(','):\n",
        "    directory, download_url_encoded = data_source_mapping.split(':')\n",
        "    download_url = unquote(download_url_encoded)\n",
        "    filename = urlparse(download_url).path\n",
        "    destination_path = os.path.join(KAGGLE_INPUT_PATH, directory)\n",
        "    try:\n",
        "        with urlopen(download_url) as fileres, NamedTemporaryFile() as tfile:\n",
        "            total_length = fileres.headers['content-length']\n",
        "            print(f'Downloading {directory}, {total_length} bytes compressed')\n",
        "            dl = 0\n",
        "            data = fileres.read(CHUNK_SIZE)\n",
        "            while len(data) > 0:\n",
        "                dl += len(data)\n",
        "                tfile.write(data)\n",
        "                done = int(50 * dl / int(total_length))\n",
        "                sys.stdout.write(f\"\\r[{'=' * done}{' ' * (50-done)}] {dl} bytes downloaded\")\n",
        "                sys.stdout.flush()\n",
        "                data = fileres.read(CHUNK_SIZE)\n",
        "            if filename.endswith('.zip'):\n",
        "              with ZipFile(tfile) as zfile:\n",
        "                zfile.extractall(destination_path)\n",
        "            else:\n",
        "              with tarfile.open(tfile.name) as tarfile:\n",
        "                tarfile.extractall(destination_path)\n",
        "            print(f'\\nDownloaded and uncompressed: {directory}')\n",
        "    except HTTPError as e:\n",
        "        print(f'Failed to load (likely expired) {download_url} to path {destination_path}')\n",
        "        continue\n",
        "    except OSError as e:\n",
        "        print(f'Failed to load {download_url} to path {destination_path}')\n",
        "        continue\n",
        "\n",
        "print('Data source import complete.')\n"
      ],
      "metadata": {
        "colab": {
          "base_uri": "https://localhost:8080/"
        },
        "id": "pFH4Rpww-Wvq",
        "outputId": "c4cbea2a-c8bf-4148-eac6-cc0acd78abc0"
      },
      "cell_type": "code",
      "outputs": [
        {
          "output_type": "stream",
          "name": "stdout",
          "text": [
            "Downloading grimm-tales, 247929 bytes compressed\n",
            "[==================================================] 247929 bytes downloaded\n",
            "Downloaded and uncompressed: grimm-tales\n",
            "Data source import complete.\n"
          ]
        }
      ],
      "execution_count": 1
    },
    {
      "cell_type": "code",
      "source": [
        "# This Python 3 environment comes with many helpful analytics libraries installed\n",
        "# It is defined by the kaggle/python Docker image: https://github.com/kaggle/docker-python\n",
        "# For example, here's several helpful packages to load\n",
        "\n",
        "import numpy as np # linear algebra\n",
        "import pandas as pd # data processing, CSV file I/O (e.g. pd.read_csv)\n",
        "\n",
        "# Input data files are available in the read-only \"../input/\" directory\n",
        "# For example, running this (by clicking run or pressing Shift+Enter) will list all files under the input directory\n",
        "\n",
        "import os\n",
        "# for dirname, _, filenames in os.walk('/kaggle/input'):\n",
        "#     for filename in filenames:\n",
        "#         print(os.path.join(dirname, filename))\n",
        "\n",
        "# You can write up to 20GB to the current directory (/kaggle/working/) that gets preserved as output when you create a version using \"Save & Run All\"\n",
        "# You can also write temporary files to /kaggle/temp/, but they won't be saved outside of the current session"
      ],
      "metadata": {
        "_uuid": "8f2839f25d086af736a60e9eeb907d3b93b6e0e5",
        "_cell_guid": "b1076dfc-b9ad-4769-8c92-a6c4dae69d19",
        "trusted": true,
        "id": "XsOC0hyh-Wv0"
      },
      "execution_count": 2,
      "outputs": []
    },
    {
      "cell_type": "code",
      "source": [
        "files = ['/kaggle/input/grimm-tales/grimm_tales.txt']\n",
        "\n",
        "text = \"\"\n",
        "\n",
        "for f in files:\n",
        "  with open(f, 'r') as f:\n",
        "    text += f.read()\n",
        "\n",
        "print(text[:500])"
      ],
      "metadata": {
        "execution": {
          "iopub.status.busy": "2024-07-14T19:17:20.924042Z",
          "iopub.execute_input": "2024-07-14T19:17:20.92487Z",
          "iopub.status.idle": "2024-07-14T19:17:20.947398Z",
          "shell.execute_reply.started": "2024-07-14T19:17:20.924834Z",
          "shell.execute_reply": "2024-07-14T19:17:20.946114Z"
        },
        "trusted": true,
        "colab": {
          "base_uri": "https://localhost:8080/"
        },
        "id": "Xhhbo5tW-Wv1",
        "outputId": "bbe54e76-2d45-4e8b-d647-032f94db8a92"
      },
      "execution_count": 3,
      "outputs": [
        {
          "output_type": "stream",
          "name": "stdout",
          "text": [
            "THE GOLDEN BIRD\n",
            "\n",
            "A certain king had a beautiful garden, and in the garden stood a tree\n",
            "which bore golden apples. These apples were always counted, and about\n",
            "the time when they began to grow ripe it was found that every night one\n",
            "of them was gone. The king became very angry at this, and ordered the\n",
            "gardener to keep watch all night under the tree. The gardener set his\n",
            "eldest son to watch; but about twelve o’clock he fell asleep, and in\n",
            "the morning another of the apples was missing. Then the second\n"
          ]
        }
      ]
    },
    {
      "cell_type": "markdown",
      "source": [
        "Weather as a Markov Chain\n",
        "-------------------------\n",
        "\n",
        "![markov_weather.png](data:image/png;base64,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)\n",
        "\n",
        "Matrix representation (rows are current state, columns are next state):\n",
        "\n",
        "| | Sunny | Cloudy | Rainy |\n",
        "| --- | --- | --- | --- |\n",
        "| **Sunny** | 0.6 | 0.1 | 0.3 |\n",
        "| **Cloudy** | 0.3 | 0.3 | 0.4 |\n",
        "| **Rainy** | 0.3 | 0.2 | 0.5 |\n"
      ],
      "metadata": {
        "id": "uSpu9th--Wv2"
      }
    },
    {
      "cell_type": "markdown",
      "source": [
        "Text as a Markov Chain\n",
        "----------------------\n",
        "\n",
        "**The cat ran over the dog.**\n",
        "\n",
        "![markov_text1.png](data:image/png;base64,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)\n",
        "\n",
        "Matrix representation (rows are current state, columns are next state):\n",
        "\n",
        "| | the | cat | ran | over | dog | . |\n",
        "| --- | --- | --- | --- | --- | --- | --- |\n",
        "| **the** | 0 | 0.5 | 0 | 0 | 0.5 | 0 |\n",
        "| **cat** | 0 | 0 | 1 | 0 | 0 | 0 |\n",
        "| **ran** | 0 | 0 | 0 | 1 | 0 | 0 |\n",
        "| **over** | 1 | 0 | 0 | 0 | 0 | 0 |\n",
        "| **dog** | 0 | 0 | 0 | 0 | 0 | 1 |\n",
        "| **.** | 0 | 0 | 0 | 0 | 0 | 1 |\n",
        "\n"
      ],
      "metadata": {
        "id": "sFR2bzcW-Wv5"
      }
    },
    {
      "cell_type": "markdown",
      "source": [
        "Define states as the distinct word tokens"
      ],
      "metadata": {
        "id": "oAuLxWDd-Wv6"
      }
    },
    {
      "cell_type": "code",
      "source": [
        "# tokens = text.lower().split()\n",
        "# distinct_states = list(set(tokens))\n",
        "\n",
        "import re\n",
        "text = re.sub(\"[^A-z,.!?'\\n ]+\", \"\", text)\n",
        "text = re.sub(\"([.,!?])\", r\" \\1 \", text)\n",
        "tokens = text.lower().split()\n",
        "distinct_states = list(set(tokens))\n",
        "distinct_states[:10]"
      ],
      "metadata": {
        "execution": {
          "iopub.status.busy": "2024-07-14T19:20:35.524307Z",
          "iopub.execute_input": "2024-07-14T19:20:35.52474Z",
          "iopub.status.idle": "2024-07-14T19:20:35.586623Z",
          "shell.execute_reply.started": "2024-07-14T19:20:35.524708Z",
          "shell.execute_reply": "2024-07-14T19:20:35.585511Z"
        },
        "trusted": true,
        "colab": {
          "base_uri": "https://localhost:8080/"
        },
        "id": "l-XnIk4E-Wv7",
        "outputId": "05880873-54d8-4efe-822c-4208bbd7b9bc"
      },
      "execution_count": 6,
      "outputs": [
        {
          "output_type": "execute_result",
          "data": {
            "text/plain": [
              "['want',\n",
              " 'respect',\n",
              " 'briskly',\n",
              " 'lofty',\n",
              " 'count',\n",
              " 'off',\n",
              " 'bowl',\n",
              " 'lathe',\n",
              " 'treatment',\n",
              " 'visit']"
            ]
          },
          "metadata": {},
          "execution_count": 6
        }
      ]
    },
    {
      "cell_type": "markdown",
      "source": [
        "Define transition matrix"
      ],
      "metadata": {
        "id": "VI9J5NOK-Wv7"
      }
    },
    {
      "cell_type": "code",
      "source": [
        "from scipy.sparse import csr_matrix\n",
        "\n",
        "m = csr_matrix((len(distinct_states), len(distinct_states)), dtype=int)\n",
        "\n",
        "state_index = dict(\n",
        "    [(state, idx_num) for idx_num, state in enumerate(distinct_states)]\n",
        ")"
      ],
      "metadata": {
        "execution": {
          "iopub.status.busy": "2024-07-14T19:21:07.923549Z",
          "iopub.execute_input": "2024-07-14T19:21:07.924371Z",
          "iopub.status.idle": "2024-07-14T19:21:08.003107Z",
          "shell.execute_reply.started": "2024-07-14T19:21:07.924323Z",
          "shell.execute_reply": "2024-07-14T19:21:08.001693Z"
        },
        "trusted": true,
        "id": "ahLljmQ2-Wv8"
      },
      "execution_count": 9,
      "outputs": []
    },
    {
      "cell_type": "markdown",
      "source": [
        "Count transitions and fill in transition matrix"
      ],
      "metadata": {
        "id": "dcw53haC-Wv8"
      }
    },
    {
      "cell_type": "code",
      "source": [
        "for i in range(len(tokens) - 1):\n",
        "  row = state_index[tokens[i]]\n",
        "  col = state_index[tokens[i + 1]]\n",
        "  m[row, col] += 1"
      ],
      "metadata": {
        "execution": {
          "iopub.status.busy": "2024-07-14T19:21:36.843698Z",
          "iopub.execute_input": "2024-07-14T19:21:36.844083Z",
          "iopub.status.idle": "2024-07-14T19:22:07.387581Z",
          "shell.execute_reply.started": "2024-07-14T19:21:36.844056Z",
          "shell.execute_reply": "2024-07-14T19:22:07.386179Z"
        },
        "trusted": true,
        "colab": {
          "base_uri": "https://localhost:8080/"
        },
        "id": "VyQwBTc5-Wv9",
        "outputId": "c7e95b18-8240-4906-baac-35df45de5afd"
      },
      "execution_count": 10,
      "outputs": [
        {
          "output_type": "stream",
          "name": "stderr",
          "text": [
            "/usr/local/lib/python3.10/dist-packages/scipy/sparse/_index.py:100: SparseEfficiencyWarning: Changing the sparsity structure of a csr_matrix is expensive. lil_matrix is more efficient.\n",
            "  self._set_intXint(row, col, x.flat[0])\n"
          ]
        }
      ]
    },
    {
      "cell_type": "markdown",
      "source": [
        "Generate new text"
      ],
      "metadata": {
        "id": "oJmLlRpa-Wv9"
      }
    },
    {
      "cell_type": "code",
      "source": [
        "import numpy as np\n",
        "\n",
        "start_state_index = np.random.randint(len(distinct_states))\n",
        "state = distinct_states[start_state_index]\n",
        "num_sentences = 0\n",
        "# output = state\n",
        "output = state.capitalize()\n",
        "capitalize = False\n",
        "\n",
        "while num_sentences < 3:\n",
        "\n",
        "  row = m[state_index[state], :]\n",
        "  probabilities = row / row.sum()\n",
        "  probabilities = probabilities.toarray()[0]\n",
        "\n",
        "\n",
        "  next_state_index = np.random.choice(\n",
        "      len(distinct_states),\n",
        "      1,\n",
        "      p=probabilities\n",
        "  )                             # generate one sample from np.range(distinct_states)\n",
        "  next_state = distinct_states[next_state_index[0]]\n",
        "\n",
        "  if next_state in ('.', '!', '?'):\n",
        "    output += next_state + '\\n\\n'\n",
        "    capitalize = True\n",
        "    num_sentences += 1\n",
        "  elif next_state == \",\":\n",
        "    output += next_state\n",
        "  else:\n",
        "    if capitalize:\n",
        "      output += next_state.capitalize()\n",
        "      capitalize = False\n",
        "    else:\n",
        "      output += \" \" + next_state\n",
        "\n",
        "\n",
        "  # output += ' ' + next_state\n",
        "\n",
        "  # if next_state[-1] in ('.', '!', '?'):\n",
        "  #   num_sentences += 1\n",
        "  #   output += '\\n\\n'\n",
        "\n",
        "  state = next_state\n",
        "\n",
        "print(output)"
      ],
      "metadata": {
        "execution": {
          "iopub.status.busy": "2024-07-14T19:22:07.389634Z",
          "iopub.execute_input": "2024-07-14T19:22:07.39018Z",
          "iopub.status.idle": "2024-07-14T19:22:07.447027Z",
          "shell.execute_reply.started": "2024-07-14T19:22:07.39012Z",
          "shell.execute_reply": "2024-07-14T19:22:07.44588Z"
        },
        "trusted": true,
        "colab": {
          "base_uri": "https://localhost:8080/"
        },
        "id": "Xhfrclyt-Wv9",
        "outputId": "82cc074a-ae3b-4d68-aa3f-6c18938baa79"
      },
      "execution_count": 12,
      "outputs": [
        {
          "output_type": "stream",
          "name": "stdout",
          "text": [
            "Gore him, and wept still and the judge, said that we go down her but the wild animals came and they too.\n",
            "\n",
            "The son came just as she came he were travelling companion took a queen had seen of this way he says that the hills and should go your hundred years without mercy!\n",
            "\n",
            "Then he found themselves, she is fairest of the pig, said she laid, that soon as he were all of me well pleased, went on the child, he might not yourself, i will peck you any more be a while?\n",
            "\n",
            "\n"
          ]
        }
      ]
    },
    {
      "cell_type": "markdown",
      "source": [
        "k-Word Markov Chain\n",
        "-------------------\n",
        "\n",
        "**The cat ran over the dog.**\n",
        "\n",
        "![markov_text2.png](data:image/png;base64,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)\n",
        "\n",
        "Matrix representation (rows are current state, columns are next state):\n",
        "\n",
        "| | the cat | cat ran | ran over | over the | the dog | dog. |\n",
        "| --- | --- | --- | --- | --- | --- | --- |\n",
        "| **the cat**  | 0 | 1 | 0 | 0 | 0 | 0 |\n",
        "| **cat ran**  | 0 | 0 | 1 | 0 | 0 | 0 |\n",
        "| **ran over** | 0 | 0 | 0 | 1 | 0 | 0 |\n",
        "| **over the** | 0 | 0 | 0 | 0 | 1 | 0 |\n",
        "| **the dog**  | 0 | 0 | 0 | 0 | 0 | 1 |\n",
        "| **dog.**     | 0 | 0 | 0 | 0 | 0 | 1 |\n",
        "\n"
      ],
      "metadata": {
        "id": "XRwrK_RH-Wv-"
      }
    },
    {
      "cell_type": "markdown",
      "source": [
        "Define states as consecutive token pairs"
      ],
      "metadata": {
        "id": "O7bYPDB6-Wv_"
      }
    },
    {
      "cell_type": "code",
      "source": [
        "k = 3\n",
        "tokens = text.lower().split()\n",
        "states = [ tuple(tokens[i:i+k]) for i in range(len(tokens)-k+1)]\n",
        "distinct_states = list(set(states))\n",
        "distinct_states[:10]"
      ],
      "metadata": {
        "execution": {
          "iopub.status.busy": "2024-07-14T19:25:53.394129Z",
          "iopub.execute_input": "2024-07-14T19:25:53.394658Z",
          "iopub.status.idle": "2024-07-14T19:25:53.503005Z",
          "shell.execute_reply.started": "2024-07-14T19:25:53.39462Z",
          "shell.execute_reply": "2024-07-14T19:25:53.501563Z"
        },
        "trusted": true,
        "colab": {
          "base_uri": "https://localhost:8080/"
        },
        "id": "cGSbDYhe-Wv_",
        "outputId": "9719b703-512a-4a57-8af6-ac5b1b73095c"
      },
      "execution_count": 15,
      "outputs": [
        {
          "output_type": "execute_result",
          "data": {
            "text/plain": [
              "[('she', 'stayed', 'on'),\n",
              " ('this', 'purpose', 'indeed'),\n",
              " ('broad', 'gateway', 'but'),\n",
              " ('agreed', 'to', 'the'),\n",
              " ('daughter', 'could', 'spin'),\n",
              " ('journeyed', 'on', 'day'),\n",
              " ('a', 'pickaxe', 'exactly'),\n",
              " ('to', 'crack', 'upon'),\n",
              " ('just', 'emptied', ','),\n",
              " ('away', ',', 'till')]"
            ]
          },
          "metadata": {},
          "execution_count": 15
        }
      ]
    },
    {
      "cell_type": "markdown",
      "source": [
        "Define and fill transition matrix"
      ],
      "metadata": {
        "id": "RtMt3Byx-Wv_"
      }
    },
    {
      "cell_type": "code",
      "source": [
        "from scipy.sparse import csr_matrix\n",
        "m = csr_matrix(\n",
        "    (len(distinct_states), len(distinct_states)),\n",
        "    dtype=int\n",
        ")\n",
        "\n",
        "state_index = dict(\n",
        "    [ (state, idx_num) for idx_num, state in enumerate(distinct_states)]\n",
        ")\n",
        "\n",
        "for i in range(len(tokens)-k):\n",
        "  state = tuple(tokens[i:i+k])\n",
        "  next_state = tuple(tokens[i+1:i+k+1])\n",
        "  row = state_index[state]\n",
        "  col = state_index[next_state]\n",
        "  m[row, col] += 1"
      ],
      "metadata": {
        "execution": {
          "iopub.status.busy": "2024-07-14T19:25:54.819041Z",
          "iopub.execute_input": "2024-07-14T19:25:54.819484Z",
          "iopub.status.idle": "2024-07-14T19:29:37.7935Z",
          "shell.execute_reply.started": "2024-07-14T19:25:54.819451Z",
          "shell.execute_reply": "2024-07-14T19:29:37.792273Z"
        },
        "trusted": true,
        "id": "nGBvoA6n-Wv_"
      },
      "execution_count": 14,
      "outputs": []
    },
    {
      "cell_type": "markdown",
      "source": [
        "Generate new text"
      ],
      "metadata": {
        "id": "OUUKWAoT-Wv_"
      }
    },
    {
      "cell_type": "code",
      "source": [
        "import numpy as np\n",
        "\n",
        "start_state_index = np.random.randint(len(distinct_states))\n",
        "state = distinct_states[start_state_index]\n",
        "num_sentences = 0\n",
        "# output = state\n",
        "output = ' '.join(state).capitalize()\n",
        "capitalize = False\n",
        "\n",
        "while num_sentences < 3:\n",
        "\n",
        "  row = m[state_index[state], :]\n",
        "  probabilities = row / row.sum()\n",
        "  probabilities = probabilities.toarray()[0]\n",
        "\n",
        "\n",
        "  next_state_index = np.random.choice(\n",
        "      len(distinct_states),\n",
        "      1,\n",
        "      p=probabilities\n",
        "  )\n",
        "  next_state = distinct_states[next_state_index[0]]\n",
        "\n",
        "  if next_state[-1] in ('.', '!', '?'):\n",
        "    output += next_state[-1] + '\\n\\n'\n",
        "    capitalize = True\n",
        "    num_sentences += 1\n",
        "  elif next_state[-1] == \",\":\n",
        "    output += next_state[-1]\n",
        "  else:\n",
        "    if capitalize:\n",
        "      output += next_state[-1].capitalize()\n",
        "      capitalize = False\n",
        "    else:\n",
        "      output += \" \" + next_state[-1]\n",
        "\n",
        "  # output += ' ' + next_state\n",
        "\n",
        "  # if next_state[-1] in ('.', '!', '?'):\n",
        "  #   num_sentences += 1\n",
        "  #   output += '\\n\\n'\n",
        "\n",
        "  state = next_state\n",
        "\n",
        "print(output)"
      ],
      "metadata": {
        "execution": {
          "iopub.status.busy": "2024-07-14T19:29:37.795239Z",
          "iopub.execute_input": "2024-07-14T19:29:37.795572Z",
          "iopub.status.idle": "2024-07-14T19:29:38.020022Z",
          "shell.execute_reply.started": "2024-07-14T19:29:37.795544Z",
          "shell.execute_reply": "2024-07-14T19:29:38.018968Z"
        },
        "trusted": true,
        "colab": {
          "base_uri": "https://localhost:8080/"
        },
        "id": "m3Z3qHGn-Wv_",
        "outputId": "1421c836-1d7d-4a42-f65e-78074c67ba69"
      },
      "execution_count": 19,
      "outputs": [
        {
          "output_type": "stream",
          "name": "stdout",
          "text": [
            "Warm and bright the sun is, and yet cannot even carry the tree!\n",
            "\n",
            "They went on into the wood, he met the fox, today.\n",
            "\n",
            "Then the huntsman did as the old woman had got me into the pan, i should have a little peace.\n",
            "\n",
            "\n"
          ]
        }
      ]
    }
  ]
}